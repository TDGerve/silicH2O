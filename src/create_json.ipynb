{
 "cells": [
  {
   "cell_type": "code",
   "execution_count": 1,
   "metadata": {},
   "outputs": [],
   "source": [
    "import json"
   ]
  },
  {
   "cell_type": "code",
   "execution_count": 2,
   "metadata": {},
   "outputs": [],
   "source": [
    "settings_default = {\n",
    "    # Raman settings\n",
    "    \"laser_wavelength\": 532.18,\n",
    "    # File Settings\n",
    "    \"name_separator\": \"_\",\n",
    "    # Processing settings\n",
    "    \"Si_bir\": \"basalt 1\",\n",
    "    \"H2O_left\": 2800,\n",
    "    \"H2O_right\": 3850,\n",
    "    \"interpolate_left\": 780,\n",
    "    \"interpolate_right\": 900,\n",
    "}\n"
   ]
  },
  {
   "cell_type": "code",
   "execution_count": 5,
   "metadata": {},
   "outputs": [],
   "source": [
    "with open('settings.json', 'w', encoding='utf-8') as f:\n",
    "    json.dump(settings_default, f, ensure_ascii=False, indent=4)"
   ]
  },
  {
   "cell_type": "code",
   "execution_count": null,
   "metadata": {},
   "outputs": [],
   "source": []
  }
 ],
 "metadata": {
  "kernelspec": {
   "display_name": "Python 3.8.12 ('py38')",
   "language": "python",
   "name": "python3"
  },
  "language_info": {
   "codemirror_mode": {
    "name": "ipython",
    "version": 3
   },
   "file_extension": ".py",
   "mimetype": "text/x-python",
   "name": "python",
   "nbconvert_exporter": "python",
   "pygments_lexer": "ipython3",
   "version": "3.8.12"
  },
  "orig_nbformat": 4,
  "vscode": {
   "interpreter": {
    "hash": "c6c7c6c75c639684a87f042d4cc57eb339ccb9f45c2c3b3a53b6aee0079e5f91"
   }
  }
 },
 "nbformat": 4,
 "nbformat_minor": 2
}
